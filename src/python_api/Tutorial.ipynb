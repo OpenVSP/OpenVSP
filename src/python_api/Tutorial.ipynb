{
 "cells": [
  {
   "cell_type": "code",
   "execution_count": 1,
   "metadata": {
    "collapsed": false
   },
   "outputs": [],
   "source": [
    "import ipywidgets as widgets\n",
    "from traitlets import Unicode\n",
    "\n",
    "from api import VspModel"
   ]
  },
  {
   "cell_type": "code",
   "execution_count": 2,
   "metadata": {
    "collapsed": true
   },
   "outputs": [],
   "source": [
    "filename = 'test.vsp3'"
   ]
  },
  {
   "cell_type": "code",
   "execution_count": 3,
   "metadata": {
    "collapsed": false
   },
   "outputs": [],
   "source": [
    "model = VspModel(filename=filename)\n",
    "model.load_design('test.des')"
   ]
  },
  {
   "cell_type": "code",
   "execution_count": 4,
   "metadata": {
    "collapsed": false
   },
   "outputs": [
    {
     "data": {
      "text/plain": [
       "{'Fuselage0': 289.16385788321963,\n",
       " 'Horizontal0': 49.5789109263189,\n",
       " 'Vertical0': 29.412904431874512,\n",
       " 'Wing0': 108.39279963009967,\n",
       " 'total': 476.5484728715127}"
      ]
     },
     "execution_count": 4,
     "metadata": {},
     "output_type": "execute_result"
    }
   ],
   "source": [
    "model.wetted_areas"
   ]
  },
  {
   "cell_type": "code",
   "execution_count": 5,
   "metadata": {
    "collapsed": false
   },
   "outputs": [],
   "source": [
    "model.Fuselage.Design.Length = 15"
   ]
  },
  {
   "cell_type": "code",
   "execution_count": 6,
   "metadata": {
    "collapsed": false
   },
   "outputs": [],
   "source": [
    "model.design.WingLocation = 0.25"
   ]
  },
  {
   "cell_type": "code",
   "execution_count": 7,
   "metadata": {
    "collapsed": false
   },
   "outputs": [
    {
     "data": {
      "text/html": [
       "\n",
       "<style>\n",
       "    .threejsVisualizer{\n",
       "        font-family: Monospace;\n",
       "        background-color: #000;\n",
       "        color: #fff;\n",
       "        margin: 0px;\n",
       "        overflow: hidden;\n",
       "    }\n",
       "    .info {\n",
       "        color: #fff;\n",
       "        position: absolute;\n",
       "        top: 10px;\n",
       "        width: 100%;\n",
       "        text-align: center;\n",
       "        z-index: 100;\n",
       "        display:block;\n",
       "    }\n",
       "</style>"
      ],
      "text/plain": [
       "<IPython.core.display.HTML object>"
      ]
     },
     "metadata": {},
     "output_type": "display_data"
    }
   ],
   "source": [
    "%%html\n",
    "\n",
    "<style>\n",
    "    .threejsVisualizer{\n",
    "        font-family: Monospace;\n",
    "        background-color: #000;\n",
    "        color: #fff;\n",
    "        margin: 0px;\n",
    "        overflow: hidden;\n",
    "    }\n",
    "    .info {\n",
    "        color: #fff;\n",
    "        position: absolute;\n",
    "        top: 10px;\n",
    "        width: 100%;\n",
    "        text-align: center;\n",
    "        z-index: 100;\n",
    "        display:block;\n",
    "    }\n",
    "</style>"
   ]
  },
  {
   "cell_type": "code",
   "execution_count": 8,
   "metadata": {
    "collapsed": false
   },
   "outputs": [
    {
     "data": {
      "application/javascript": [
       "\n",
       "require.config({\n",
       "   \"paths\":{\n",
       "      \"Detector\": \"https://cdn.rawgit.com/mrdoob/three.js/master/examples/js/Detector\",\n",
       "      \"TrackballControls\": \"https://rawgit.com/mrdoob/three.js/34fff87eacc4ed2034a01ac276484ab85060f75a/examples/js/controls/TrackballControls\",\n",
       "      \"STLLoader\": \"https://cdn.rawgit.com/mrdoob/three.js/master/examples/js/loaders/STLLoader\",\n",
       "      \"stats.min\": \"https://cdn.rawgit.com/mrdoob/three.js/master/examples/js/libs/stats.min\",\n",
       "      \"three.min\": \"https://cdn.rawgit.com/mrdoob/three.js/master/build/three.min\"\n",
       "   },\n",
       "   \"shim\": {\n",
       "      \"Detector\": {\n",
       "         \"deps\": [\"three.min\"]\n",
       "      },\n",
       "      \"TrackballControls\": {\n",
       "         \"deps\": [\"three.min\"]\n",
       "      },\n",
       "      \"STLLoader\": {\n",
       "         \"deps\": [\"three.min\"]\n",
       "      },\n",
       "      \"stats.min\": {\n",
       "         \"deps\": [\"three.min\"],\n",
       "          \"exports\": \"Stats\"\n",
       "      },\n",
       "      \"three.min\": {\n",
       "         \"deps\": [],\n",
       "         \"exports\":\"THREE\"\n",
       "      }\n",
       "   }\n",
       "});\n",
       "\n",
       "require(\n",
       "[\n",
       "    \"nbextensions/widgets/widgets/js/widget\",\n",
       "    \"nbextensions/widgets/widgets/js/manager\",\n",
       "    'stats.min', 'three.min', 'TrackballControls', 'STLLoader', 'Detector'\n",
       "],\n",
       "\n",
       "function(widget, manager, Stats, THREE){\n",
       "    console.log(\"threejsView was required\");\n",
       "    var scope = {}\n",
       "    var threejsView = widget.DOMWidgetView.extend({\n",
       "        render: function(){\n",
       "            var self = this;\n",
       "            scope = self\n",
       "            \n",
       "            if ( ! Detector.webgl ) Detector.addGetWebGLMessage();\n",
       "\n",
       "            var container, stats;\n",
       "\n",
       "            var camera, controls, scene, renderer;\n",
       "\n",
       "            var cross;\n",
       "\n",
       "            init();\n",
       "            animate();\n",
       "\n",
       "            function init() {\n",
       "                self.camera = new THREE.PerspectiveCamera( 60, 4/3, 0.01, 1e10 );\n",
       "                self.camera.position.z = 0.2;\n",
       "                \n",
       "                // renderer\n",
       "                self.renderer = new THREE.WebGLRenderer( { antialias: false } );\n",
       "                self.renderer.setPixelRatio( window.devicePixelRatio );\n",
       "                self.renderer.setSize( element.innerWidth(), 3/4 * element.innerWidth() );\n",
       "\n",
       "                container = self.el; //document.createElement( 'div' );\n",
       "                document.body.appendChild( container );\n",
       "                container.appendChild( self.renderer.domElement );\n",
       "                \n",
       "                self.controls = new THREE.TrackballControls( self.camera , container );\n",
       "                \n",
       "                self.controls.rotateSpeed = 5.0;\n",
       "                self.controls.zoomSpeed = 5;\n",
       "                self.controls.panSpeed = 2;\n",
       "\n",
       "                self.controls.noZoom = false;\n",
       "                self.controls.noPan = false;\n",
       "\n",
       "                self.controls.staticMoving = true;\n",
       "                self.controls.dynamicDampingFactor = 0.3;\n",
       "\n",
       "                self.scene = new THREE.Scene();\n",
       "\n",
       "                self.scene.add( self.camera );\n",
       "\n",
       "                // light\n",
       "                var dirLight = new THREE.DirectionalLight( 0xffffff );\n",
       "                dirLight.position.set( 200, 200, 1000 ).normalize();\n",
       "\n",
       "                self.camera.add( dirLight );\n",
       "                self.camera.add( dirLight.target );\n",
       "\n",
       "                self.material = new THREE.MeshLambertMaterial( { color:0xffffff, side: THREE.DoubleSide } );\n",
       "\n",
       "                self.loader = new THREE.STLLoader();\n",
       "                \n",
       "                self.value = JSON.parse(self.model.get('value'))\n",
       "                \n",
       "                for(var i in self.value){\n",
       "                    self.value[i].geometry = self.loader.parse(self.value[i].polyData)\n",
       "                    self.value[i].mesh = new THREE.Mesh(self.value[i].geometry, self.material)\n",
       "                    self.value[i].mesh.position.setX(self.value[i].x)\n",
       "                    self.value[i].mesh.position.setY(self.value[i].y)\n",
       "                    self.value[i].mesh.position.setZ(self.value[i].z)\n",
       "                    self.scene.add(self.value[i].mesh)\n",
       "                }\n",
       "\n",
       "                stats = new Stats();\n",
       "                stats.domElement.style.position = 'absolute';\n",
       "                stats.domElement.style.top = '0px';\n",
       "                stats.domElement.style['z-index'] = 1;\n",
       "                container.style.position = 'relative';\n",
       "                container.appendChild( stats.domElement );\n",
       "\n",
       "                //\n",
       "\n",
       "                window.addEventListener( 'resize', onWindowResize, false );\n",
       "\n",
       "            }\n",
       "\n",
       "            function onWindowResize() {\n",
       "\n",
       "                self.camera.aspect = 4/3;\n",
       "                self.camera.updateProjectionMatrix();\n",
       "\n",
       "                self.renderer.setSize( element.innerWidth(), 3/4 * element.innerWidth() );\n",
       "\n",
       "                self.controls.handleResize();\n",
       "\n",
       "            }\n",
       "\n",
       "            function animate() {\n",
       "\n",
       "                requestAnimationFrame( animate );\n",
       "\n",
       "                self.controls.update();\n",
       "                self.renderer.render( self.scene, self.camera );\n",
       "\n",
       "                stats.update();\n",
       "\n",
       "            }\n",
       "            \n",
       "            this.model.on('change:value', this.update, this);\n",
       "        },\n",
       "        \n",
       "        update: function(){\n",
       "            scope\n",
       "            self.value = JSON.parse(self.model.get('value'))\n",
       "        }\n",
       "    });\n",
       "    \n",
       "    // Register the widget with the widget manager.\n",
       "    manager.WidgetManager.register_widget_view('threejsView', threejsView);\n",
       "});"
      ],
      "text/plain": [
       "<IPython.core.display.Javascript object>"
      ]
     },
     "metadata": {},
     "output_type": "display_data"
    }
   ],
   "source": [
    "%%javascript\n",
    "\n",
    "require.config({\n",
    "   \"paths\":{\n",
    "      \"Detector\": \"https://cdn.rawgit.com/mrdoob/three.js/master/examples/js/Detector\",\n",
    "      \"TrackballControls\": \"https://rawgit.com/mrdoob/three.js/34fff87eacc4ed2034a01ac276484ab85060f75a/examples/js/controls/TrackballControls\",\n",
    "      \"STLLoader\": \"https://cdn.rawgit.com/mrdoob/three.js/master/examples/js/loaders/STLLoader\",\n",
    "      \"stats.min\": \"https://cdn.rawgit.com/mrdoob/three.js/master/examples/js/libs/stats.min\",\n",
    "      \"three.min\": \"https://cdn.rawgit.com/mrdoob/three.js/master/build/three.min\"\n",
    "   },\n",
    "   \"shim\": {\n",
    "      \"Detector\": {\n",
    "         \"deps\": [\"three.min\"]\n",
    "      },\n",
    "      \"TrackballControls\": {\n",
    "         \"deps\": [\"three.min\"]\n",
    "      },\n",
    "      \"STLLoader\": {\n",
    "         \"deps\": [\"three.min\"]\n",
    "      },\n",
    "      \"stats.min\": {\n",
    "         \"deps\": [\"three.min\"],\n",
    "          \"exports\": \"Stats\"\n",
    "      },\n",
    "      \"three.min\": {\n",
    "         \"deps\": [],\n",
    "         \"exports\":\"THREE\"\n",
    "      }\n",
    "   }\n",
    "});\n",
    "\n",
    "require(\n",
    "[\n",
    "    \"nbextensions/widgets/widgets/js/widget\",\n",
    "    \"nbextensions/widgets/widgets/js/manager\",\n",
    "    'stats.min', 'three.min', 'TrackballControls', 'STLLoader', 'Detector'\n",
    "],\n",
    "\n",
    "function(widget, manager, Stats, THREE){\n",
    "    console.log(\"threejsView was required\");\n",
    "    var scope = {}\n",
    "    var threejsView = widget.DOMWidgetView.extend({\n",
    "        render: function(){\n",
    "            var self = this;\n",
    "            scope = self\n",
    "            \n",
    "            if ( ! Detector.webgl ) Detector.addGetWebGLMessage();\n",
    "\n",
    "            var container, stats;\n",
    "\n",
    "            var camera, controls, scene, renderer;\n",
    "\n",
    "            var cross;\n",
    "\n",
    "            init();\n",
    "            animate();\n",
    "\n",
    "            function init() {\n",
    "                self.camera = new THREE.PerspectiveCamera( 60, 4/3, 0.01, 1e10 );\n",
    "                self.camera.position.z = 0.2;\n",
    "                \n",
    "                // renderer\n",
    "                self.renderer = new THREE.WebGLRenderer( { antialias: false } );\n",
    "                self.renderer.setPixelRatio( window.devicePixelRatio );\n",
    "                self.renderer.setSize( element.innerWidth(), 3/4 * element.innerWidth() );\n",
    "\n",
    "                container = self.el; //document.createElement( 'div' );\n",
    "                document.body.appendChild( container );\n",
    "                container.appendChild( self.renderer.domElement );\n",
    "                \n",
    "                self.controls = new THREE.TrackballControls( self.camera , container );\n",
    "                \n",
    "                self.controls.rotateSpeed = 5.0;\n",
    "                self.controls.zoomSpeed = 5;\n",
    "                self.controls.panSpeed = 2;\n",
    "\n",
    "                self.controls.noZoom = false;\n",
    "                self.controls.noPan = false;\n",
    "\n",
    "                self.controls.staticMoving = true;\n",
    "                self.controls.dynamicDampingFactor = 0.3;\n",
    "\n",
    "                self.scene = new THREE.Scene();\n",
    "\n",
    "                self.scene.add( self.camera );\n",
    "\n",
    "                // light\n",
    "                var dirLight = new THREE.DirectionalLight( 0xffffff );\n",
    "                dirLight.position.set( 200, 200, 1000 ).normalize();\n",
    "\n",
    "                self.camera.add( dirLight );\n",
    "                self.camera.add( dirLight.target );\n",
    "\n",
    "                self.material = new THREE.MeshLambertMaterial( { color:0xffffff, side: THREE.DoubleSide } );\n",
    "\n",
    "                self.loader = new THREE.STLLoader();\n",
    "                \n",
    "                self.value = JSON.parse(self.model.get('value'))\n",
    "                \n",
    "                for(var i in self.value){\n",
    "                    self.value[i].geometry = self.loader.parse(self.value[i].polyData)\n",
    "                    self.value[i].mesh = new THREE.Mesh(self.value[i].geometry, self.material)\n",
    "                    self.value[i].mesh.position.setX(self.value[i].x)\n",
    "                    self.value[i].mesh.position.setY(self.value[i].y)\n",
    "                    self.value[i].mesh.position.setZ(self.value[i].z)\n",
    "                    self.scene.add(self.value[i].mesh)\n",
    "                }\n",
    "\n",
    "                stats = new Stats();\n",
    "                stats.domElement.style.position = 'absolute';\n",
    "                stats.domElement.style.top = '0px';\n",
    "                stats.domElement.style['z-index'] = 1;\n",
    "                container.style.position = 'relative';\n",
    "                container.appendChild( stats.domElement );\n",
    "\n",
    "                //\n",
    "\n",
    "                window.addEventListener( 'resize', onWindowResize, false );\n",
    "\n",
    "            }\n",
    "\n",
    "            function onWindowResize() {\n",
    "\n",
    "                self.camera.aspect = 4/3;\n",
    "                self.camera.updateProjectionMatrix();\n",
    "\n",
    "                self.renderer.setSize( element.innerWidth(), 3/4 * element.innerWidth() );\n",
    "\n",
    "                self.controls.handleResize();\n",
    "\n",
    "            }\n",
    "\n",
    "            function animate() {\n",
    "\n",
    "                requestAnimationFrame( animate );\n",
    "\n",
    "                self.controls.update();\n",
    "                self.renderer.render( self.scene, self.camera );\n",
    "\n",
    "                stats.update();\n",
    "\n",
    "            }\n",
    "            \n",
    "            this.model.on('change:value', this.update, this);\n",
    "        },\n",
    "        \n",
    "        update: function(){\n",
    "            scope\n",
    "            self.value = JSON.parse(self.model.get('value'))\n",
    "        }\n",
    "    });\n",
    "    \n",
    "    // Register the widget with the widget manager.\n",
    "    manager.WidgetManager.register_widget_view('threejsView', threejsView);\n",
    "});"
   ]
  },
  {
   "cell_type": "code",
   "execution_count": 9,
   "metadata": {
    "collapsed": false
   },
   "outputs": [],
   "source": [
    "class threejsVisualizer(widgets.DOMWidget):\n",
    "    _view_name = Unicode('threejsView').tag(sync=True)\n",
    "    value = Unicode('{\\\"name\\\":\\\"Missing Value Property\\\"}').tag(sync=True)"
   ]
  },
  {
   "cell_type": "code",
   "execution_count": 15,
   "metadata": {
    "collapsed": true
   },
   "outputs": [],
   "source": [
    "model.design.Length = 12"
   ]
  },
  {
   "cell_type": "code",
   "execution_count": 16,
   "metadata": {
    "collapsed": true
   },
   "outputs": [],
   "source": [
    "g.value = model.threejs_data"
   ]
  },
  {
   "cell_type": "code",
   "execution_count": 17,
   "metadata": {
    "collapsed": false
   },
   "outputs": [],
   "source": [
    "g = threejsVisualizer(value=model.threejs_data)"
   ]
  },
  {
   "cell_type": "code",
   "execution_count": 18,
   "metadata": {
    "collapsed": true
   },
   "outputs": [],
   "source": [
    "g"
   ]
  },
  {
   "cell_type": "markdown",
   "metadata": {},
   "source": [
    "# Find methods in OpenVSP SWIG interface"
   ]
  },
  {
   "cell_type": "code",
   "execution_count": 11,
   "metadata": {
    "collapsed": false
   },
   "outputs": [
    {
     "data": {
      "text/plain": [
       "['FindContainerParmIDs',\n",
       " 'FindParm',\n",
       " 'GetBoolParmVal',\n",
       " 'GetGeomParmIDs',\n",
       " 'GetIntParmVal',\n",
       " 'GetParm',\n",
       " 'GetParmContainer',\n",
       " 'GetParmDisplayGroupName',\n",
       " 'GetParmGroupName',\n",
       " 'GetParmLowerLimit',\n",
       " 'GetParmName',\n",
       " 'GetParmType',\n",
       " 'GetParmUpperLimit',\n",
       " 'GetParmVal',\n",
       " 'GetXSecParm',\n",
       " 'GetXSecParmIDs',\n",
       " 'ResetXSecSkinParms',\n",
       " 'SetParmDescript',\n",
       " 'SetParmLowerLimit',\n",
       " 'SetParmUpperLimit',\n",
       " 'SetParmVal',\n",
       " 'SetParmValLimits',\n",
       " 'SetParmValUpdate',\n",
       " 'VSP_CANT_FIND_PARM',\n",
       " 'VSP_CANT_SET_NOT_EQ_PARM',\n",
       " 'ValidParm']"
      ]
     },
     "execution_count": 11,
     "metadata": {},
     "output_type": "execute_result"
    }
   ],
   "source": [
    "import vsp\n",
    "\n",
    "[d for d in dir(vsp) if 'parm' in d.lower()]"
   ]
  }
 ],
 "metadata": {
  "kernelspec": {
   "display_name": "Python 3",
   "language": "python",
   "name": "python3"
  },
  "language_info": {
   "codemirror_mode": {
    "name": "ipython",
    "version": 3
   },
   "file_extension": ".py",
   "mimetype": "text/x-python",
   "name": "python",
   "nbconvert_exporter": "python",
   "pygments_lexer": "ipython3",
   "version": "3.5.1"
  }
 },
 "nbformat": 4,
 "nbformat_minor": 0
}
